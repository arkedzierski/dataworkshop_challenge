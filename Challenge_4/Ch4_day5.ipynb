{
 "cells": [
  {
   "cell_type": "code",
   "execution_count": 4,
   "metadata": {},
   "outputs": [],
   "source": [
    "import pandas as pd\n",
    "\n",
    "from gensim.utils import simple_preprocess\n",
    "from gensim.models import Doc2Vec\n",
    "from gensim.models.doc2vec import TaggedDocument\n",
    "\n",
    "from gensim.models.phrases import Phraser, Phrases"
   ]
  },
  {
   "cell_type": "code",
   "execution_count": 6,
   "metadata": {},
   "outputs": [
    {
     "data": {
      "text/plain": [
       "(36109, 8)"
      ]
     },
     "execution_count": 6,
     "metadata": {},
     "output_type": "execute_result"
    }
   ],
   "source": [
    "df = pd.read_csv('data\\job_ofer.csv')\n",
    "df.shape"
   ]
  },
  {
   "cell_type": "code",
   "execution_count": 7,
   "metadata": {
    "scrolled": true
   },
   "outputs": [
    {
     "data": {
      "text/html": [
       "<div>\n",
       "<style scoped>\n",
       "    .dataframe tbody tr th:only-of-type {\n",
       "        vertical-align: middle;\n",
       "    }\n",
       "\n",
       "    .dataframe tbody tr th {\n",
       "        vertical-align: top;\n",
       "    }\n",
       "\n",
       "    .dataframe thead th {\n",
       "        text-align: right;\n",
       "    }\n",
       "</style>\n",
       "<table border=\"1\" class=\"dataframe\">\n",
       "  <thead>\n",
       "    <tr style=\"text-align: right;\">\n",
       "      <th></th>\n",
       "      <th>title</th>\n",
       "      <th>company_name</th>\n",
       "      <th>address</th>\n",
       "      <th>description</th>\n",
       "      <th>seniority_level</th>\n",
       "      <th>employment_type</th>\n",
       "      <th>job_function</th>\n",
       "      <th>industries</th>\n",
       "    </tr>\n",
       "  </thead>\n",
       "  <tbody>\n",
       "    <tr>\n",
       "      <th>0</th>\n",
       "      <td>Machine Learning Engineer</td>\n",
       "      <td>Intellipro Group Inc</td>\n",
       "      <td>Palo Alto, CA, US</td>\n",
       "      <td>['About The Company', \"W*** is reshaping the f...</td>\n",
       "      <td>Entry level</td>\n",
       "      <td>Full-time</td>\n",
       "      <td>Engineering</td>\n",
       "      <td>Information Technology and Services</td>\n",
       "    </tr>\n",
       "    <tr>\n",
       "      <th>1</th>\n",
       "      <td>Deep Learning Applied Researcher - Chicago</td>\n",
       "      <td>Ethosia</td>\n",
       "      <td>Chicago, IL, US</td>\n",
       "      <td>['תיאור המשרה', 'Deep learning for Computer Vi...</td>\n",
       "      <td>Associate</td>\n",
       "      <td>Full-time</td>\n",
       "      <td>Other</td>\n",
       "      <td>Information Technology and Services</td>\n",
       "    </tr>\n",
       "    <tr>\n",
       "      <th>2</th>\n",
       "      <td>Machine Learning Engineer</td>\n",
       "      <td>Motorola Solutions</td>\n",
       "      <td>Chicago, IL, US</td>\n",
       "      <td>['Company Overview', 'At Motorola Solutions, w...</td>\n",
       "      <td>Entry level</td>\n",
       "      <td>Full-time</td>\n",
       "      <td>Engineering</td>\n",
       "      <td>Information Technology and Services</td>\n",
       "    </tr>\n",
       "    <tr>\n",
       "      <th>3</th>\n",
       "      <td>Machine Learning / Data Scientist</td>\n",
       "      <td>Proprius LLC</td>\n",
       "      <td>San Francisco, CA, US</td>\n",
       "      <td>['Our client is a digital invention agency foc...</td>\n",
       "      <td>Entry level</td>\n",
       "      <td>Full-time</td>\n",
       "      <td>Engineering</td>\n",
       "      <td>Information Technology and Services</td>\n",
       "    </tr>\n",
       "    <tr>\n",
       "      <th>4</th>\n",
       "      <td>Cloud Architect</td>\n",
       "      <td>TCS</td>\n",
       "      <td>Framingham, Massachusetts, United States</td>\n",
       "      <td>['Technical/Functional Skills', ' ', 'Good to ...</td>\n",
       "      <td>Mid-Senior level</td>\n",
       "      <td>Full-time</td>\n",
       "      <td>Engineering</td>\n",
       "      <td>Information Technology and Services</td>\n",
       "    </tr>\n",
       "  </tbody>\n",
       "</table>\n",
       "</div>"
      ],
      "text/plain": [
       "                                        title          company_name  \\\n",
       "0                   Machine Learning Engineer  Intellipro Group Inc   \n",
       "1  Deep Learning Applied Researcher - Chicago               Ethosia   \n",
       "2                   Machine Learning Engineer    Motorola Solutions   \n",
       "3           Machine Learning / Data Scientist          Proprius LLC   \n",
       "4                             Cloud Architect                   TCS   \n",
       "\n",
       "                                    address  \\\n",
       "0                         Palo Alto, CA, US   \n",
       "1                           Chicago, IL, US   \n",
       "2                           Chicago, IL, US   \n",
       "3                     San Francisco, CA, US   \n",
       "4  Framingham, Massachusetts, United States   \n",
       "\n",
       "                                         description   seniority_level  \\\n",
       "0  ['About The Company', \"W*** is reshaping the f...       Entry level   \n",
       "1  ['תיאור המשרה', 'Deep learning for Computer Vi...         Associate   \n",
       "2  ['Company Overview', 'At Motorola Solutions, w...       Entry level   \n",
       "3  ['Our client is a digital invention agency foc...       Entry level   \n",
       "4  ['Technical/Functional Skills', ' ', 'Good to ...  Mid-Senior level   \n",
       "\n",
       "  employment_type job_function                           industries  \n",
       "0       Full-time  Engineering  Information Technology and Services  \n",
       "1       Full-time        Other  Information Technology and Services  \n",
       "2       Full-time  Engineering  Information Technology and Services  \n",
       "3       Full-time  Engineering  Information Technology and Services  \n",
       "4       Full-time  Engineering  Information Technology and Services  "
      ]
     },
     "execution_count": 7,
     "metadata": {},
     "output_type": "execute_result"
    }
   ],
   "source": [
    "df.head()"
   ]
  },
  {
   "cell_type": "code",
   "execution_count": 8,
   "metadata": {},
   "outputs": [],
   "source": [
    "title_corpus = df['title'].map(simple_preprocess)"
   ]
  },
  {
   "cell_type": "code",
   "execution_count": 19,
   "metadata": {},
   "outputs": [],
   "source": [
    "title_tagged = [TaggedDocument(words=sent, tags=[i]) for i, sent in enumerate(title_corpus)]\n",
    "title_bigram = Phraser(Phrases(title_corpus, min_count=2, threshold=1))"
   ]
  },
  {
   "cell_type": "code",
   "execution_count": 20,
   "metadata": {},
   "outputs": [],
   "source": [
    "title_corpus_phraser = [title_bigram[sent] for sent in title_corpus]\n",
    "title_model = Doc2Vec(vector_size=300, window_size=5, min_count=1)\n",
    "title_model.build_vocab(title_tagged)"
   ]
  },
  {
   "cell_type": "code",
   "execution_count": 21,
   "metadata": {},
   "outputs": [
    {
     "name": "stdout",
     "output_type": "stream",
     "text": [
      "Wall time: 17.5 s\n"
     ]
    }
   ],
   "source": [
    "%time title_model.train(title_tagged, total_examples=title_model.corpus_count, epochs=10)"
   ]
  },
  {
   "cell_type": "code",
   "execution_count": 22,
   "metadata": {},
   "outputs": [
    {
     "data": {
      "text/plain": [
       "[(320, 0.8116195201873779),\n",
       " (7243, 0.8041043877601624),\n",
       " (34278, 0.7912393808364868),\n",
       " (15217, 0.7870103120803833),\n",
       " (30054, 0.7864614725112915),\n",
       " (319, 0.7673773169517517),\n",
       " (32357, 0.763896107673645),\n",
       " (21265, 0.7611019611358643),\n",
       " (4293, 0.7606596946716309),\n",
       " (33091, 0.7486882209777832)]"
      ]
     },
     "execution_count": 22,
     "metadata": {},
     "output_type": "execute_result"
    }
   ],
   "source": [
    "title_model.docvecs.most_similar(0)"
   ]
  },
  {
   "cell_type": "code",
   "execution_count": 23,
   "metadata": {},
   "outputs": [
    {
     "data": {
      "text/plain": [
       "array(['Machine Learning Engineer'], dtype=object)"
      ]
     },
     "execution_count": 23,
     "metadata": {},
     "output_type": "execute_result"
    }
   ],
   "source": [
    "df[df.index == 0].title.values"
   ]
  },
  {
   "cell_type": "code",
   "execution_count": 24,
   "metadata": {},
   "outputs": [
    {
     "data": {
      "text/plain": [
       "array(['Data Science and Machine Learning Researcher'], dtype=object)"
      ]
     },
     "execution_count": 24,
     "metadata": {},
     "output_type": "execute_result"
    }
   ],
   "source": [
    "df[df.index == 320].title.values"
   ]
  },
  {
   "cell_type": "code",
   "execution_count": null,
   "metadata": {},
   "outputs": [],
   "source": []
  }
 ],
 "metadata": {
  "kernelspec": {
   "display_name": "Python 3",
   "language": "python",
   "name": "python3"
  },
  "language_info": {
   "codemirror_mode": {
    "name": "ipython",
    "version": 3
   },
   "file_extension": ".py",
   "mimetype": "text/x-python",
   "name": "python",
   "nbconvert_exporter": "python",
   "pygments_lexer": "ipython3",
   "version": "3.7.3"
  }
 },
 "nbformat": 4,
 "nbformat_minor": 2
}
